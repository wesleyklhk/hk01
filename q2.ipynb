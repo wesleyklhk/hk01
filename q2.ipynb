{
 "cells": [
  {
   "cell_type": "code",
   "execution_count": 1,
   "metadata": {},
   "outputs": [
    {
     "name": "stdout",
     "output_type": "stream",
     "text": [
      "----------Question 2----------\n",
      "Answer: 85251\n"
     ]
    }
   ],
   "source": [
    "#####Question 2\n",
    "print('{}{}{}'.format('-' * 10,'Question 2','-'*10) )\n",
    "\n",
    "with open('logfile','r') as f:\n",
    "    f_content = f.read()\n",
    "    loglines = f_content.split('\\n')[1:]\n",
    "    answer = 0\n",
    "    for l in loglines:\n",
    "        splited_line = l.split('\\t')\n",
    "        if splited_line[0] == '20170824' or splited_line[0] == '20170825': #####assume inclusive\n",
    "            if splited_line[3].endswith('jpg'):\n",
    "                answer += eval(splited_line[2])\n",
    "    \n",
    "    print('Answer: {}'.format(answer) )\n",
    "    \n",
    "    \n",
    "    \n",
    "\n"
   ]
  }
 ],
 "metadata": {
  "kernelspec": {
   "display_name": "Python [conda env:hk01_offsite_test]",
   "language": "python",
   "name": "conda-env-hk01_offsite_test-py"
  },
  "language_info": {
   "codemirror_mode": {
    "name": "ipython",
    "version": 3
   },
   "file_extension": ".py",
   "mimetype": "text/x-python",
   "name": "python",
   "nbconvert_exporter": "python",
   "pygments_lexer": "ipython3",
   "version": "3.5.4"
  }
 },
 "nbformat": 4,
 "nbformat_minor": 2
}
