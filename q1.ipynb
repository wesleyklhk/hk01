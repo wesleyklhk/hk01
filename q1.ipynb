{
 "cells": [
  {
   "cell_type": "code",
   "execution_count": 1,
   "metadata": {},
   "outputs": [
    {
     "name": "stdout",
     "output_type": "stream",
     "text": [
      "----------Question 1----------\n",
      "Assume MySQL is used.\n",
      "Answer: \n",
      "select count(*)\n",
      "from \n",
      "(select distinct uid from `piwik_track` where 1 and `time` >= '2017-04-01' and `time` < '2017-04-02' and event_name = 'FIRST_INSTALL')A join\n",
      "(select distinct uid from `piwik_track` where 1 and `time` >= '2017-04-02' and `time` <= '2017-04-08' and event_name <> 'FIRST_INSTALL') B on A.uid = B.uid\n",
      "\n"
     ]
    }
   ],
   "source": [
    "#####Question 1\n",
    "print('{}{}{}'.format('-' * 10,'Question 1','-'*10) )\n",
    "\n",
    "answer = \"\"\"\n",
    "select count(*)\n",
    "from \n",
    "(select distinct uid from `piwik_track` where 1 and `time` >= '2017-04-01' and `time` < '2017-04-02' and event_name = 'FIRST_INSTALL')A join\n",
    "(select distinct uid from `piwik_track` where 1 and `time` >= '2017-04-02' and `time` <= '2017-04-08' and event_name <> 'FIRST_INSTALL') B on A.uid = B.uid\n",
    "\"\"\"\n",
    "\n",
    "print('Assume MySQL is used.\\nAnswer: {}'.format(answer))\n"
   ]
  }
 ],
 "metadata": {
  "kernelspec": {
   "display_name": "Python [conda env:hk01_offsite_test]",
   "language": "python",
   "name": "conda-env-hk01_offsite_test-py"
  },
  "language_info": {
   "codemirror_mode": {
    "name": "ipython",
    "version": 3
   },
   "file_extension": ".py",
   "mimetype": "text/x-python",
   "name": "python",
   "nbconvert_exporter": "python",
   "pygments_lexer": "ipython3",
   "version": "3.5.4"
  }
 },
 "nbformat": 4,
 "nbformat_minor": 2
}
